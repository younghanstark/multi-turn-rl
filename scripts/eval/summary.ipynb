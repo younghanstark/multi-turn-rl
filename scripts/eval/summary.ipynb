{
 "cells": [
  {
   "cell_type": "code",
   "execution_count": 9,
   "metadata": {},
   "outputs": [],
   "source": [
    "import json\n",
    "import os\n",
    "import numpy as np"
   ]
  },
  {
   "cell_type": "code",
   "execution_count": 20,
   "metadata": {},
   "outputs": [],
   "source": [
    "WORKDIR = '/work/09720/yhpark'\n",
    "\n",
    "buyers = ['fairness', 'length', 'supervised', 'utility']\n",
    "sellers = ['emaq', 'cql', 'brac']"
   ]
  },
  {
   "cell_type": "code",
   "execution_count": 21,
   "metadata": {},
   "outputs": [],
   "source": [
    "result = {}\n",
    "for buyer in buyers:\n",
    "    result[buyer] = {}\n",
    "    for seller in sellers:\n",
    "        result[buyer][seller] = {}\n",
    "\n",
    "for buyer in buyers:\n",
    "    for seller in sellers:\n",
    "        with open(os.path.join(WORKDIR, f'results/{buyer}_vs_{seller}.json')) as f:\n",
    "            scenarios = json.load(f)\n",
    "        \n",
    "        accept = 0\n",
    "        buyer_prices = []\n",
    "        seller_prices = []\n",
    "\n",
    "        for scenario in scenarios:\n",
    "            if scenario['accept']:\n",
    "                accept += 1\n",
    "            buyer_prices.append(scenario['buyer_price'])\n",
    "            seller_prices.append(scenario['seller_price'])\n",
    "        \n",
    "        result[buyer][seller]['accept_rate'] = accept / len(scenarios)\n",
    "        result[buyer][seller]['mean_buyer_price'] = np.mean(buyer_prices)\n",
    "        result[buyer][seller]['std_buyer_price'] = np.std(buyer_prices)\n",
    "        result[buyer][seller]['mean_seller_price'] = np.mean(seller_prices)\n",
    "        result[buyer][seller]['std_seller_price'] = np.std(seller_prices)"
   ]
  },
  {
   "cell_type": "code",
   "execution_count": 23,
   "metadata": {},
   "outputs": [
    {
     "name": "stdout",
     "output_type": "stream",
     "text": [
      "metric: accept_rate\n",
      "\t['emaq', 'cql', 'brac']\n",
      "fairness 0.96 0.92 0.98 \n",
      "length 0.8 0.8 0.86 \n",
      "supervised 0.94 0.96 0.96 \n",
      "utility 0.88 0.92 0.96 \n",
      "\n",
      "metric: buyer_price\n",
      "\t['emaq', 'cql', 'brac']\n",
      "fairness 0.95$\\pm$0.27 0.69$\\pm$0.21 0.96$\\pm$0.15 \n",
      "length 0.80$\\pm$0.34 0.63$\\pm$0.26 0.89$\\pm$0.24 \n",
      "supervised 0.85$\\pm$0.21 0.77$\\pm$0.16 0.93$\\pm$0.18 \n",
      "utility 0.82$\\pm$0.26 0.70$\\pm$0.22 0.95$\\pm$0.18 \n",
      "\n",
      "metric: seller_price\n",
      "\t['emaq', 'cql', 'brac']\n",
      "fairness 0.97$\\pm$0.24 0.72$\\pm$0.20 0.97$\\pm$0.06 \n",
      "length 0.95$\\pm$0.25 0.74$\\pm$0.20 0.96$\\pm$0.15 \n",
      "supervised 0.89$\\pm$0.12 0.78$\\pm$0.16 0.95$\\pm$0.17 \n",
      "utility 0.91$\\pm$0.19 0.73$\\pm$0.18 0.97$\\pm$0.16 \n",
      "\n"
     ]
    }
   ],
   "source": [
    "for metric in ['accept_rate', 'buyer_price', 'seller_price']:\n",
    "    print(f'metric: {metric}')\n",
    "    print(f'\\t{sellers}')\n",
    "    for buyer in buyers:\n",
    "        print(buyer, end=' ')\n",
    "        for seller in sellers:\n",
    "            if metric.endswith('price'):\n",
    "                print(f\"{result[buyer][seller]['mean_'+metric]:.2f}$\\\\pm${result[buyer][seller]['std_'+metric]:.2f}\", end=' ')\n",
    "            else:\n",
    "                print(result[buyer][seller][metric], end=' ')\n",
    "        print()\n",
    "    print()"
   ]
  },
  {
   "cell_type": "code",
   "execution_count": null,
   "metadata": {},
   "outputs": [],
   "source": []
  }
 ],
 "metadata": {
  "kernelspec": {
   "display_name": "chai",
   "language": "python",
   "name": "python3"
  },
  "language_info": {
   "codemirror_mode": {
    "name": "ipython",
    "version": 3
   },
   "file_extension": ".py",
   "mimetype": "text/x-python",
   "name": "python",
   "nbconvert_exporter": "python",
   "pygments_lexer": "ipython3",
   "version": "3.8.19"
  }
 },
 "nbformat": 4,
 "nbformat_minor": 2
}
